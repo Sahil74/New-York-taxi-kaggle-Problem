{
 "cells": [
  {
   "cell_type": "code",
   "execution_count": 14,
   "source": [
    "import pandas as pd\r\n",
    "import numpy as np\r\n"
   ],
   "outputs": [],
   "metadata": {}
  },
  {
   "cell_type": "code",
   "execution_count": 19,
   "source": [
    "df = pd.read_csv('final_data.csv',index_col=False)\r\n",
    "df.head"
   ],
   "outputs": [
    {
     "output_type": "execute_result",
     "data": {
      "text/plain": [
       "<bound method NDFrame.head of         fare_amount  fare_class  passenger_count  Year  month  day  hour  \\\n",
       "0               6.5           0                1  2010      4   19     4   \n",
       "1               6.9           0                1  2010      4   17    11   \n",
       "2              10.1           1                2  2010      4   17     7   \n",
       "3               8.9           0                1  2010      4   11    17   \n",
       "4              19.7           1                1  2010      4   16    22   \n",
       "...             ...         ...              ...   ...    ...  ...   ...   \n",
       "119995         15.3           1                1  2010      4   18    10   \n",
       "119996         15.3           1                1  2010      4   23     6   \n",
       "119997         12.5           1                3  2010      4   18    14   \n",
       "119998          4.9           0                1  2010      4   13     4   \n",
       "119999          5.3           0                3  2010      4   17    12   \n",
       "\n",
       "        minute  mornight  Total_distance  \n",
       "0           17         0        2.126312  \n",
       "1           43         0        1.392307  \n",
       "2           23         0        3.326763  \n",
       "3           25         1        1.864129  \n",
       "4           19         1        7.231321  \n",
       "...        ...       ...             ...  \n",
       "119995      33         0        5.751348  \n",
       "119996      27         0        5.767444  \n",
       "119997      50         1        5.052523  \n",
       "119998      14         0        1.208923  \n",
       "119999       0         1        1.427399  \n",
       "\n",
       "[120000 rows x 10 columns]>"
      ]
     },
     "metadata": {},
     "execution_count": 19
    }
   ],
   "metadata": {}
  },
  {
   "cell_type": "code",
   "execution_count": 22,
   "source": [
    "X = df.iloc[:,[0,2,3,4,5,6,7,8,9]]\r\n",
    "y = df.iloc[:,1]"
   ],
   "outputs": [],
   "metadata": {}
  },
  {
   "cell_type": "code",
   "execution_count": 23,
   "source": [
    "from sklearn.ensemble import ExtraTreesRegressor\r\n",
    "import matplotlib.pyplot as plt\r\n",
    "model = ExtraTreesRegressor()\r\n",
    "model.fit(X,y)"
   ],
   "outputs": [
    {
     "output_type": "execute_result",
     "data": {
      "text/plain": [
       "ExtraTreesRegressor()"
      ]
     },
     "metadata": {},
     "execution_count": 23
    }
   ],
   "metadata": {}
  },
  {
   "cell_type": "code",
   "execution_count": 25,
   "source": [
    "feat_importances = pd.Series(model.feature_importances_,index = X.columns)\r\n",
    "feat_importances.nlargest(7).plot(kind='barh')\r\n",
    "plt.show()"
   ],
   "outputs": [
    {
     "output_type": "display_data",
     "data": {
      "text/plain": [
       "<Figure size 432x288 with 1 Axes>"
      ],
      "image/png": "[encoded data removed]"
     },
     "metadata": {
      "needs_background": "light"
     }
    }
   ],
   "metadata": {}
  },
  {
   "cell_type": "code",
   "execution_count": 26,
   "source": [
    "from sklearn.model_selection import train_test_split\r\n",
    "X_train, X_test, y_train, y_test = train_test_split(X,y,test_size=0.3,random_state=100)"
   ],
   "outputs": [],
   "metadata": {}
  },
  {
   "cell_type": "code",
   "execution_count": 27,
   "source": [
    "from sklearn.ensemble import RandomForestClassifier\r\n",
    "classifier = RandomForestClassifier()\r\n",
    "classifier.fit(X_train,y_train)"
   ],
   "outputs": [
    {
     "output_type": "execute_result",
     "data": {
      "text/plain": [
       "RandomForestClassifier()"
      ]
     },
     "metadata": {},
     "execution_count": 27
    }
   ],
   "metadata": {}
  },
  {
   "cell_type": "code",
   "execution_count": 28,
   "source": [
    "y_pred = classifier.predict(X_test)"
   ],
   "outputs": [],
   "metadata": {}
  },
  {
   "cell_type": "code",
   "execution_count": 29,
   "source": [
    "from sklearn.metrics import confusion_matrix,accuracy_score,classification_report\r\n",
    "cm = confusion_matrix(y_test,y_pred)\r\n",
    "score = accuracy_score(y_test,y_pred)\r\n",
    "print(cm)\r\n",
    "print(score)"
   ],
   "outputs": [
    {
     "output_type": "stream",
     "name": "stdout",
     "text": [
      "[[24023     0]\n",
      " [    0 11977]]\n",
      "1.0\n"
     ]
    }
   ],
   "metadata": {}
  },
  {
   "cell_type": "code",
   "execution_count": null,
   "source": [
    "#hyperparameter tuning can do"
   ],
   "outputs": [],
   "metadata": {}
  }
 ],
 "metadata": {
  "orig_nbformat": 4,
  "language_info": {
   "name": "python",
   "version": "3.7.9",
   "mimetype": "text/x-python",
   "codemirror_mode": {
    "name": "ipython",
    "version": 3
   },
   "pygments_lexer": "ipython3",
   "nbconvert_exporter": "python",
   "file_extension": ".py"
  },
  "kernelspec": {
   "name": "python3",
   "display_name": "Python 3.7.9 64-bit"
  },
  "interpreter": {
   "hash": "d511d14e60272b9a5a77db7218cb138afebb4019e3c80988c29ef279e60c3e26"
  }
 },
 "nbformat": 4,
 "nbformat_minor": 2
}