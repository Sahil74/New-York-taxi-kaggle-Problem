{
 "cells": [
  {
   "cell_type": "code",
   "execution_count": 42,
   "source": [
    "import pandas as pd\r\n",
    "df = pd.read_csv('data/taxifare.csv')"
   ],
   "outputs": [],
   "metadata": {}
  },
  {
   "cell_type": "code",
   "execution_count": 43,
   "source": [
    "import datetime\r\n",
    "df['pickup_datetime']=pd.to_datetime(df['pickup_datetime'])-datetime.timedelta(hours=4)"
   ],
   "outputs": [],
   "metadata": {}
  },
  {
   "cell_type": "code",
   "execution_count": 44,
   "source": [
    "df['Year'] = df['pickup_datetime'].dt.year\r\n",
    "df['month'] = df['pickup_datetime'].dt.month\r\n",
    "df['day'] = df['pickup_datetime'].dt.day\r\n",
    "df['hour'] = df['pickup_datetime'].dt.hour\r\n",
    "df['minute'] = df['pickup_datetime'].dt.minute"
   ],
   "outputs": [],
   "metadata": {}
  },
  {
   "cell_type": "code",
   "execution_count": 45,
   "source": [
    "import numpy as np \r\n",
    "df['mornight'] = np.where(df['hour']<12,0,1)"
   ],
   "outputs": [],
   "metadata": {}
  },
  {
   "cell_type": "code",
   "execution_count": 46,
   "source": [
    "df.drop(['pickup_datetime'],axis=1,inplace=True)"
   ],
   "outputs": [],
   "metadata": {}
  },
  {
   "cell_type": "code",
   "execution_count": 47,
   "source": [
    "##we create a function \r\n",
    "def haversine(df):\r\n",
    "    '''calculate the great circle distance b/w two points on the earth (specified in decimal degrees)'''\r\n",
    "    lat1 = np.radians(df['pickup_latitude'])\r\n",
    "    lat2 = np.radians(df['dropoff_latitude'])\r\n",
    "    ##based on the formula x1 = dropoff_latitude x2 = dropoff_longitude\r\n",
    "    dlat = np.radians(df['dropoff_latitude']-df['pickup_latitude'])\r\n",
    "    dlong = np.radians(df['dropoff_longitude']- df['pickup_longitude'])\r\n",
    "    a = np.sin(dlat/2)**2 + np.cos(lat1) * np.cos(lat2) * np.sin(dlong/2)**2\r\n",
    "\r\n",
    "    c = 2 * np.arctan2(np.sqrt(a), np.sqrt(1-a))\r\n",
    "    r = 6371 #radius of earth in kilometeres. use 3956 for miles\r\n",
    "    return c*r"
   ],
   "outputs": [],
   "metadata": {}
  },
  {
   "cell_type": "code",
   "execution_count": 48,
   "source": [
    "df['Total_distance'] = haversine(df)"
   ],
   "outputs": [],
   "metadata": {}
  },
  {
   "cell_type": "code",
   "execution_count": 49,
   "source": [
    "df = df.drop(['pickup_longitude','pickup_latitude','dropoff_longitude','dropoff_latitude'],axis =1)"
   ],
   "outputs": [],
   "metadata": {}
  },
  {
   "cell_type": "code",
   "execution_count": 50,
   "source": [
    "X = df.iloc[:,1:]\r\n",
    "y =  df.iloc[:,0]"
   ],
   "outputs": [],
   "metadata": {}
  },
  {
   "cell_type": "code",
   "execution_count": 51,
   "source": [
    "from sklearn.ensemble import ExtraTreesRegressor\r\n",
    "import matplotlib.pyplot as plt\r\n",
    "model = ExtraTreesRegressor()\r\n",
    "model.fit(X,y)"
   ],
   "outputs": [
    {
     "output_type": "execute_result",
     "data": {
      "text/plain": [
       "ExtraTreesRegressor()"
      ]
     },
     "metadata": {},
     "execution_count": 51
    }
   ],
   "metadata": {}
  },
  {
   "cell_type": "code",
   "execution_count": 11,
   "source": [
    "feat_importnaces = pd.Series(model.feature_importances_, index = X.columns)\r\n",
    "feat_importnaces.nlargest(7).plot(kind='barh')\r\n",
    "plt.show()"
   ],
   "outputs": [
    {
     "output_type": "display_data",
     "data": {
      "text/plain": [
       "<Figure size 432x288 with 1 Axes>"
      ],
      "image/png": "[encoded data removed]"
     },
     "metadata": {
      "needs_background": "light"
     }
    }
   ],
   "metadata": {}
  },
  {
   "cell_type": "code",
   "execution_count": 52,
   "source": [
    "from sklearn.model_selection import train_test_split\r\n",
    "X_train, X_test, y_train, y_test = train_test_split(X,y,test_size=0.3,random_state=100)"
   ],
   "outputs": [],
   "metadata": {}
  },
  {
   "cell_type": "code",
   "execution_count": 15,
   "source": [
    "X_train.shape"
   ],
   "outputs": [
    {
     "output_type": "execute_result",
     "data": {
      "text/plain": [
       "(84000, 9)"
      ]
     },
     "metadata": {},
     "execution_count": 15
    }
   ],
   "metadata": {}
  },
  {
   "cell_type": "code",
   "execution_count": 23,
   "source": [
    "y_train.shape"
   ],
   "outputs": [
    {
     "output_type": "execute_result",
     "data": {
      "text/plain": [
       "(84000,)"
      ]
     },
     "metadata": {},
     "execution_count": 23
    }
   ],
   "metadata": {}
  },
  {
   "cell_type": "markdown",
   "source": [
    "ANN\r\n"
   ],
   "metadata": {}
  },
  {
   "cell_type": "code",
   "execution_count": 19,
   "source": [
    "import tensorflow\r\n",
    "from tensorflow.keras.models import *\r\n",
    "from tensorflow.keras.layers import *"
   ],
   "outputs": [],
   "metadata": {}
  },
  {
   "cell_type": "code",
   "execution_count": 53,
   "source": [
    "X_train= X_train.iloc[:15000,:]\r\n",
    "X_train.shape"
   ],
   "outputs": [
    {
     "output_type": "execute_result",
     "data": {
      "text/plain": [
       "(15000, 9)"
      ]
     },
     "metadata": {},
     "execution_count": 53
    }
   ],
   "metadata": {}
  },
  {
   "cell_type": "code",
   "execution_count": 54,
   "source": [
    "y_train= y_train.iloc[:15000]"
   ],
   "outputs": [],
   "metadata": {}
  },
  {
   "cell_type": "code",
   "execution_count": 55,
   "source": [
    "df.to_csv('final_data.csv',index=False)"
   ],
   "outputs": [],
   "metadata": {}
  },
  {
   "cell_type": "code",
   "execution_count": 31,
   "source": [
    "n_model = Sequential()\r\n",
    "n_model.add(Dense(128,kernel_initializer='normal',input_dim=X_train.shape[1],activation='relu'))\r\n",
    "\r\n",
    "n_model.add(Dense(256, kernel_initializer='normal', activation='relu'))\r\n",
    "n_model.add(Dense(256, kernel_initializer='normal', activation='relu'))\r\n",
    "n_model.add(Dense(256, kernel_initializer='normal', activation='relu'))\r\n",
    "\r\n",
    "n_model.add((Dense(1, kernel_initializer='normal', activation='linear')))\r\n",
    "\r\n",
    "n_model.compile(loss='mean_absolute_error',optimizer= 'adam', metrics=['mean_absolute_error'])\r\n",
    "model_history = n_model.fit(X_train,y_train,validation_split=0.33,batch_size= 10, epochs = 20)"
   ],
   "outputs": [
    {
     "output_type": "stream",
     "name": "stdout",
     "text": [
      "Train on 10049 samples, validate on 4951 samples\n",
      "Epoch 1/20\n",
      "10049/10049 [==============================] - 11s 1ms/sample - loss: 3.8167 - mean_absolute_error: 3.8167 - val_loss: 1.9284 - val_mean_absolute_error: 1.9284\n",
      "Epoch 2/20\n",
      "10049/10049 [==============================] - 9s 909us/sample - loss: 1.9838 - mean_absolute_error: 1.9838 - val_loss: 1.6128 - val_mean_absolute_error: 1.6128\n",
      "Epoch 3/20\n",
      "10049/10049 [==============================] - 10s 991us/sample - loss: 1.9117 - mean_absolute_error: 1.9117 - val_loss: 1.6979 - val_mean_absolute_error: 1.6979\n",
      "Epoch 4/20\n",
      "10049/10049 [==============================] - 10s 989us/sample - loss: 1.8741 - mean_absolute_error: 1.8741 - val_loss: 1.6289 - val_mean_absolute_error: 1.6289\n",
      "Epoch 5/20\n",
      "10049/10049 [==============================] - 9s 917us/sample - loss: 1.8077 - mean_absolute_error: 1.8077 - val_loss: 2.0019 - val_mean_absolute_error: 2.0019\n",
      "Epoch 6/20\n",
      "10049/10049 [==============================] - 11s 1ms/sample - loss: 1.8059 - mean_absolute_error: 1.8059 - val_loss: 1.5672 - val_mean_absolute_error: 1.5672\n",
      "Epoch 7/20\n",
      "10049/10049 [==============================] - 11s 1ms/sample - loss: 1.7960 - mean_absolute_error: 1.7960 - val_loss: 1.8421 - val_mean_absolute_error: 1.8421\n",
      "Epoch 8/20\n",
      "10049/10049 [==============================] - 11s 1ms/sample - loss: 1.8156 - mean_absolute_error: 1.8156 - val_loss: 1.5797 - val_mean_absolute_error: 1.5797\n",
      "Epoch 9/20\n",
      "10049/10049 [==============================] - 11s 1ms/sample - loss: 1.8110 - mean_absolute_error: 1.8110 - val_loss: 1.7125 - val_mean_absolute_error: 1.7125\n",
      "Epoch 10/20\n",
      "10049/10049 [==============================] - 11s 1ms/sample - loss: 1.7708 - mean_absolute_error: 1.7708 - val_loss: 1.6269 - val_mean_absolute_error: 1.6269\n",
      "Epoch 11/20\n",
      "10049/10049 [==============================] - 11s 1ms/sample - loss: 1.7557 - mean_absolute_error: 1.7557 - val_loss: 1.5515 - val_mean_absolute_error: 1.5515\n",
      "Epoch 12/20\n",
      "10049/10049 [==============================] - 11s 1ms/sample - loss: 1.7515 - mean_absolute_error: 1.7515 - val_loss: 1.5616 - val_mean_absolute_error: 1.5616\n",
      "Epoch 13/20\n",
      "10049/10049 [==============================] - 11s 1ms/sample - loss: 1.7583 - mean_absolute_error: 1.7583 - val_loss: 1.5661 - val_mean_absolute_error: 1.5661\n",
      "Epoch 14/20\n",
      "10049/10049 [==============================] - 11s 1ms/sample - loss: 1.7553 - mean_absolute_error: 1.7553 - val_loss: 1.6063 - val_mean_absolute_error: 1.6063\n",
      "Epoch 15/20\n",
      "10049/10049 [==============================] - 11s 1ms/sample - loss: 1.7584 - mean_absolute_error: 1.7584 - val_loss: 1.5655 - val_mean_absolute_error: 1.5655\n",
      "Epoch 16/20\n",
      "10049/10049 [==============================] - 11s 1ms/sample - loss: 1.7934 - mean_absolute_error: 1.7934 - val_loss: 1.6311 - val_mean_absolute_error: 1.6311\n",
      "Epoch 17/20\n",
      "10049/10049 [==============================] - 11s 1ms/sample - loss: 1.7222 - mean_absolute_error: 1.7222 - val_loss: 1.5617 - val_mean_absolute_error: 1.5617\n",
      "Epoch 18/20\n",
      "10049/10049 [==============================] - 11s 1ms/sample - loss: 1.7133 - mean_absolute_error: 1.7133 - val_loss: 1.6961 - val_mean_absolute_error: 1.6961\n",
      "Epoch 19/20\n",
      "10049/10049 [==============================] - 11s 1ms/sample - loss: 1.7621 - mean_absolute_error: 1.7621 - val_loss: 2.1318 - val_mean_absolute_error: 2.1318\n",
      "Epoch 20/20\n",
      "10049/10049 [==============================] - 11s 1ms/sample - loss: 1.7239 - mean_absolute_error: 1.7239 - val_loss: 2.0421 - val_mean_absolute_error: 2.0421\n"
     ]
    }
   ],
   "metadata": {}
  },
  {
   "cell_type": "code",
   "execution_count": 32,
   "source": [
    "prediction = n_model.predict(X_test)"
   ],
   "outputs": [],
   "metadata": {}
  },
  {
   "cell_type": "code",
   "execution_count": 33,
   "source": [
    "import seaborn as sns\r\n",
    "sns.displot(y_test.values.reshape(-1,1)-prediction)"
   ],
   "outputs": [
    {
     "output_type": "execute_result",
     "data": {
      "text/plain": [
       "<seaborn.axisgrid.FacetGrid at 0x20b8a91d908>"
      ]
     },
     "metadata": {},
     "execution_count": 33
    },
    {
     "output_type": "display_data",
     "data": {
      "text/plain": [
       "<Figure size 402.25x360 with 1 Axes>"
      ],
      "image/png": "[encoded data removed]"
     },
     "metadata": {
      "needs_background": "light"
     }
    }
   ],
   "metadata": {}
  },
  {
   "cell_type": "code",
   "execution_count": 34,
   "source": [
    "from sklearn import metrics\r\n",
    "print('mse',metrics.mean_squared_error(y_test,prediction))\r\n",
    "print('mae',metrics.mean_absolute_error(y_test,prediction))\r\n",
    "print('r2',metrics.r2_score(y_test,prediction))\r\n",
    "print('rmse',np.sqrt(metrics.mean_squared_error(y_test,prediction)))"
   ],
   "outputs": [
    {
     "output_type": "stream",
     "name": "stdout",
     "text": [
      "mse 12.506404545271375\n",
      "mae 2.0694266033212343\n",
      "r2 0.7813790193099661\n",
      "rmse 3.536439529423821\n"
     ]
    }
   ],
   "metadata": {}
  },
  {
   "cell_type": "code",
   "execution_count": null,
   "source": [],
   "outputs": [],
   "metadata": {}
  },
  {
   "cell_type": "code",
   "execution_count": null,
   "source": [],
   "outputs": [],
   "metadata": {}
  },
  {
   "cell_type": "code",
   "execution_count": null,
   "source": [],
   "outputs": [],
   "metadata": {}
  }
 ],
 "metadata": {
  "orig_nbformat": 4,
  "language_info": {
   "name": "python",
   "version": "3.7.9",
   "mimetype": "text/x-python",
   "codemirror_mode": {
    "name": "ipython",
    "version": 3
   },
   "pygments_lexer": "ipython3",
   "nbconvert_exporter": "python",
   "file_extension": ".py"
  },
  "kernelspec": {
   "name": "python3",
   "display_name": "Python 3.7.9 64-bit"
  },
  "interpreter": {
   "hash": "d511d14e60272b9a5a77db7218cb138afebb4019e3c80988c29ef279e60c3e26"
  }
 },
 "nbformat": 4,
 "nbformat_minor": 2
}