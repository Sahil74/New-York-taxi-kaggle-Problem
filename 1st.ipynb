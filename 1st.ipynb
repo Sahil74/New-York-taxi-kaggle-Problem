{
 "cells": [
  {
   "cell_type": "markdown",
   "source": [
    "kaggle dataset link = https://www.kaggle.com/c/new-york-city-taxi-fare-prediction\r\n",
    "# we are using sample data set bcz original is very large\r\n",
    "# Fare amount is a dependent feature"
   ],
   "metadata": {}
  },
  {
   "cell_type": "code",
   "execution_count": 1,
   "source": [
    "import pandas as pd"
   ],
   "outputs": [],
   "metadata": {}
  },
  {
   "cell_type": "code",
   "execution_count": 2,
   "source": [
    "df = pd.read_csv('data/taxifare.csv')"
   ],
   "outputs": [],
   "metadata": {}
  },
  {
   "cell_type": "code",
   "execution_count": 3,
   "source": [
    "df.head\r\n",
    "df.shape\r\n"
   ],
   "outputs": [
    {
     "output_type": "execute_result",
     "data": {
      "text/plain": [
       "(120000, 8)"
      ]
     },
     "metadata": {},
     "execution_count": 3
    }
   ],
   "metadata": {}
  },
  {
   "cell_type": "markdown",
   "source": [
    "feature engineering with respect to datetime"
   ],
   "metadata": {}
  },
  {
   "cell_type": "code",
   "execution_count": 4,
   "source": [
    "import datetime\r\n",
    "df['pickup_datetime']=pd.to_datetime(df['pickup_datetime'])-datetime.timedelta(hours=4)"
   ],
   "outputs": [],
   "metadata": {}
  },
  {
   "cell_type": "code",
   "execution_count": 5,
   "source": [
    "df.info()"
   ],
   "outputs": [
    {
     "output_type": "stream",
     "name": "stdout",
     "text": [
      "<class 'pandas.core.frame.DataFrame'>\n",
      "RangeIndex: 120000 entries, 0 to 119999\n",
      "Data columns (total 8 columns):\n",
      " #   Column             Non-Null Count   Dtype              \n",
      "---  ------             --------------   -----              \n",
      " 0   pickup_datetime    120000 non-null  datetime64[ns, UTC]\n",
      " 1   fare_amount        120000 non-null  float64            \n",
      " 2   fare_class         120000 non-null  int64              \n",
      " 3   pickup_longitude   120000 non-null  float64            \n",
      " 4   pickup_latitude    120000 non-null  float64            \n",
      " 5   dropoff_longitude  120000 non-null  float64            \n",
      " 6   dropoff_latitude   120000 non-null  float64            \n",
      " 7   passenger_count    120000 non-null  int64              \n",
      "dtypes: datetime64[ns, UTC](1), float64(5), int64(2)\n",
      "memory usage: 7.3 MB\n"
     ]
    }
   ],
   "metadata": {}
  },
  {
   "cell_type": "code",
   "execution_count": 6,
   "source": [
    "df['Year'] = df['pickup_datetime'].dt.year\r\n",
    "df['month'] = df['pickup_datetime'].dt.month\r\n",
    "df['day'] = df['pickup_datetime'].dt.day\r\n",
    "df['hour'] = df['pickup_datetime'].dt.hour\r\n",
    "df['minute'] = df['pickup_datetime'].dt.minute\r\n"
   ],
   "outputs": [],
   "metadata": {}
  },
  {
   "cell_type": "code",
   "execution_count": 7,
   "source": [
    "df.shape"
   ],
   "outputs": [
    {
     "output_type": "execute_result",
     "data": {
      "text/plain": [
       "(120000, 13)"
      ]
     },
     "metadata": {},
     "execution_count": 7
    }
   ],
   "metadata": {}
  },
  {
   "cell_type": "code",
   "execution_count": 8,
   "source": [
    "import numpy as np \r\n",
    "df['mornight'] = np.where(df['hour']<12,0,1)"
   ],
   "outputs": [],
   "metadata": {}
  },
  {
   "cell_type": "code",
   "execution_count": 9,
   "source": [
    "df.drop(['pickup_datetime'],axis=1,inplace=True)"
   ],
   "outputs": [],
   "metadata": {}
  },
  {
   "cell_type": "markdown",
   "source": [
    "we use manhat and euclidean distance but whenever we have longitude and longitude it is better to use haversine dis\r\n"
   ],
   "metadata": {}
  },
  {
   "cell_type": "code",
   "execution_count": 10,
   "source": [
    "##we create a function \r\n",
    "def haversine(df):\r\n",
    "    '''calculate the great circle distance b/w two points on the earth (specified in decimal degrees)'''\r\n",
    "    lat1 = np.radians(df['pickup_latitude'])\r\n",
    "    lat2 = np.radians(df['dropoff_latitude'])\r\n",
    "    ##based on the formula x1 = dropoff_latitude x2 = dropoff_longitude\r\n",
    "    dlat = np.radians(df['dropoff_latitude']-df['pickup_latitude'])\r\n",
    "    dlong = np.radians(df['dropoff_longitude']- df['pickup_longitude'])\r\n",
    "    a = np.sin(dlat/2)**2 + np.cos(lat1) * np.cos(lat2) * np.sin(dlong/2)**2\r\n",
    "\r\n",
    "    c = 2 * np.arctan2(np.sqrt(a), np.sqrt(1-a))\r\n",
    "    r = 6371 #radius of earth in kilometeres. use 3956 for miles\r\n",
    "    return c*r"
   ],
   "outputs": [],
   "metadata": {}
  },
  {
   "cell_type": "code",
   "execution_count": 11,
   "source": [
    "df['Total_distance'] = haversine(df)"
   ],
   "outputs": [],
   "metadata": {}
  },
  {
   "cell_type": "code",
   "execution_count": 12,
   "source": [
    "df.head"
   ],
   "outputs": [
    {
     "output_type": "execute_result",
     "data": {
      "text/plain": [
       "<bound method NDFrame.head of         fare_amount  fare_class  pickup_longitude  pickup_latitude  \\\n",
       "0               6.5           0        -73.992365        40.730521   \n",
       "1               6.9           0        -73.990078        40.740558   \n",
       "2              10.1           1        -73.994149        40.751118   \n",
       "3               8.9           0        -73.990485        40.756422   \n",
       "4              19.7           1        -73.990976        40.734202   \n",
       "...             ...         ...               ...              ...   \n",
       "119995         15.3           1        -73.955857        40.784590   \n",
       "119996         15.3           1        -73.996329        40.772727   \n",
       "119997         12.5           1        -73.988574        40.749772   \n",
       "119998          4.9           0        -74.004449        40.724529   \n",
       "119999          5.3           0        -73.955415        40.771920   \n",
       "\n",
       "        dropoff_longitude  dropoff_latitude  passenger_count  Year  month  \\\n",
       "0              -73.975499         40.744746                1  2010      4   \n",
       "1              -73.974232         40.744114                1  2010      4   \n",
       "2              -73.960064         40.766235                2  2010      4   \n",
       "3              -73.971205         40.748192                1  2010      4   \n",
       "4              -73.905956         40.743115                1  2010      4   \n",
       "...                   ...               ...              ...   ...    ...   \n",
       "119995         -73.981941         40.736789                1  2010      4   \n",
       "119996         -74.049890         40.740413                1  2010      4   \n",
       "119997         -74.011541         40.707799                3  2010      4   \n",
       "119998         -73.992697         40.730765                1  2010      4   \n",
       "119999         -73.967623         40.763015                3  2010      4   \n",
       "\n",
       "        day  hour  minute  mornight  Total_distance  \n",
       "0        19     4      17         0        2.126312  \n",
       "1        17    11      43         0        1.392307  \n",
       "2        17     7      23         0        3.326763  \n",
       "3        11    17      25         1        1.864129  \n",
       "4        16    22      19         1        7.231321  \n",
       "...     ...   ...     ...       ...             ...  \n",
       "119995   18    10      33         0        5.751348  \n",
       "119996   23     6      27         0        5.767444  \n",
       "119997   18    14      50         1        5.052523  \n",
       "119998   13     4      14         0        1.208923  \n",
       "119999   17    12       0         1        1.427399  \n",
       "\n",
       "[120000 rows x 14 columns]>"
      ]
     },
     "metadata": {},
     "execution_count": 12
    }
   ],
   "metadata": {}
  },
  {
   "cell_type": "code",
   "execution_count": 13,
   "source": [
    "df = df.drop(['pickup_longitude','pickup_latitude','dropoff_longitude','dropoff_latitude'],axis =1)"
   ],
   "outputs": [],
   "metadata": {}
  },
  {
   "cell_type": "code",
   "execution_count": 14,
   "source": [
    "df.head"
   ],
   "outputs": [
    {
     "output_type": "execute_result",
     "data": {
      "text/plain": [
       "<bound method NDFrame.head of         fare_amount  fare_class  passenger_count  Year  month  day  hour  \\\n",
       "0               6.5           0                1  2010      4   19     4   \n",
       "1               6.9           0                1  2010      4   17    11   \n",
       "2              10.1           1                2  2010      4   17     7   \n",
       "3               8.9           0                1  2010      4   11    17   \n",
       "4              19.7           1                1  2010      4   16    22   \n",
       "...             ...         ...              ...   ...    ...  ...   ...   \n",
       "119995         15.3           1                1  2010      4   18    10   \n",
       "119996         15.3           1                1  2010      4   23     6   \n",
       "119997         12.5           1                3  2010      4   18    14   \n",
       "119998          4.9           0                1  2010      4   13     4   \n",
       "119999          5.3           0                3  2010      4   17    12   \n",
       "\n",
       "        minute  mornight  Total_distance  \n",
       "0           17         0        2.126312  \n",
       "1           43         0        1.392307  \n",
       "2           23         0        3.326763  \n",
       "3           25         1        1.864129  \n",
       "4           19         1        7.231321  \n",
       "...        ...       ...             ...  \n",
       "119995      33         0        5.751348  \n",
       "119996      27         0        5.767444  \n",
       "119997      50         1        5.052523  \n",
       "119998      14         0        1.208923  \n",
       "119999       0         1        1.427399  \n",
       "\n",
       "[120000 rows x 10 columns]>"
      ]
     },
     "metadata": {},
     "execution_count": 14
    }
   ],
   "metadata": {}
  },
  {
   "cell_type": "markdown",
   "source": [
    "#MONGO-DB operations "
   ],
   "metadata": {}
  },
  {
   "cell_type": "code",
   "execution_count": 15,
   "source": [
    "import json\r\n",
    "records = json.loads(df.T.to_json()).values() # T = transpose"
   ],
   "outputs": [],
   "metadata": {}
  },
  {
   "cell_type": "code",
   "execution_count": 16,
   "source": [
    "import pymongo\r\n",
    "client = pymongo.MongoClient('mongodb://localhost:27017/')\r\n",
    "db = client['newyorktaxi']\r\n",
    "col = db['rides']"
   ],
   "outputs": [],
   "metadata": {}
  },
  {
   "cell_type": "code",
   "execution_count": 17,
   "source": [
    "col.insert_many(records)"
   ],
   "outputs": [
    {
     "output_type": "execute_result",
     "data": {
      "text/plain": [
       "<pymongo.results.InsertManyResult at 0x195bf866288>"
      ]
     },
     "metadata": {},
     "execution_count": 17
    }
   ],
   "metadata": {}
  },
  {
   "cell_type": "markdown",
   "source": [
    "Regression Model"
   ],
   "metadata": {}
  },
  {
   "cell_type": "code",
   "execution_count": 18,
   "source": [
    "X = df.iloc[:,1:]\r\n",
    "y =  df.iloc[:,0]"
   ],
   "outputs": [],
   "metadata": {}
  },
  {
   "cell_type": "markdown",
   "source": [
    "Feature importance\r\n",
    "\r\n"
   ],
   "metadata": {}
  },
  {
   "cell_type": "code",
   "execution_count": 20,
   "source": [
    "from sklearn.ensemble import ExtraTreesRegressor\r\n",
    "import matplotlib.pyplot as plt\r\n",
    "model = ExtraTreesRegressor()\r\n",
    "model.fit(X,y)"
   ],
   "outputs": [
    {
     "output_type": "execute_result",
     "data": {
      "text/plain": [
       "ExtraTreesRegressor()"
      ]
     },
     "metadata": {},
     "execution_count": 20
    }
   ],
   "metadata": {}
  },
  {
   "cell_type": "code",
   "execution_count": 21,
   "source": [
    "feat_importnaces = pd.Series(model.feature_importances_, index = X.columns)\r\n",
    "feat_importnaces.nlargest(7).plot(kind='barh')\r\n",
    "plt.show()"
   ],
   "outputs": [
    {
     "output_type": "display_data",
     "data": {
      "text/plain": [
       "<Figure size 432x288 with 1 Axes>"
      ],
      "image/png": "[encoded data removed]"
     },
     "metadata": {
      "needs_background": "light"
     }
    }
   ],
   "metadata": {}
  },
  {
   "cell_type": "code",
   "execution_count": 23,
   "source": [
    "from sklearn.model_selection import train_test_split\r\n",
    "X_train, X_test, y_train, y_test = train_test_split(X,y,test_size=0.3,random_state=100)"
   ],
   "outputs": [],
   "metadata": {}
  },
  {
   "cell_type": "code",
   "execution_count": 24,
   "source": [
    "import xgboost"
   ],
   "outputs": [],
   "metadata": {}
  },
  {
   "cell_type": "code",
   "execution_count": 25,
   "source": [
    "regressor = xgboost.XGBRFRegressor()\r\n",
    "regressor.fit(X_train,y_train)\r\n"
   ],
   "outputs": [
    {
     "output_type": "execute_result",
     "data": {
      "text/plain": [
       "XGBRFRegressor(base_score=0.5, booster='gbtree', colsample_bylevel=1,\n",
       "               colsample_bytree=1, gamma=0, gpu_id=-1, importance_type='gain',\n",
       "               interaction_constraints='', max_delta_step=0, max_depth=6,\n",
       "               min_child_weight=1, missing=nan, monotone_constraints='()',\n",
       "               n_estimators=100, n_jobs=8, num_parallel_tree=100,\n",
       "               objective='reg:squarederror', random_state=0, reg_alpha=0,\n",
       "               scale_pos_weight=1, tree_method='exact', validate_parameters=1,\n",
       "               verbosity=None)"
      ]
     },
     "metadata": {},
     "execution_count": 25
    }
   ],
   "metadata": {}
  },
  {
   "cell_type": "code",
   "execution_count": 26,
   "source": [
    "y_pred = regressor.predict(X_test)"
   ],
   "outputs": [],
   "metadata": {}
  },
  {
   "cell_type": "code",
   "execution_count": 27,
   "source": [
    "import seaborn as sns\r\n",
    "sns.displot(y_test-y_pred)\r\n"
   ],
   "outputs": [
    {
     "output_type": "execute_result",
     "data": {
      "text/plain": [
       "<seaborn.axisgrid.FacetGrid at 0x1964eed6908>"
      ]
     },
     "metadata": {},
     "execution_count": 27
    },
    {
     "output_type": "display_data",
     "data": {
      "text/plain": [
       "<Figure size 360x360 with 1 Axes>"
      ],
      "image/png": "[encoded data removed]"
     },
     "metadata": {
      "needs_background": "light"
     }
    }
   ],
   "metadata": {}
  },
  {
   "cell_type": "code",
   "execution_count": 28,
   "source": [
    "from sklearn import metrics\r\n",
    "print('mse', metrics.mean_squared_error(y_test,y_pred))\r\n",
    "print('r2', metrics.r2_score(y_test,y_pred))\r\n",
    "print('mae', metrics.mean_absolute_error(y_test,y_pred))\r\n",
    "print('rmse',np.sqrt(metrics.mean_squared_error(y_test,y_pred)))"
   ],
   "outputs": [
    {
     "output_type": "stream",
     "name": "stdout",
     "text": [
      "mse 6.673631331218544\n",
      "r2 0.8833401061741302\n",
      "mae 1.4400647541803784\n",
      "rmse 2.5833372468995495\n"
     ]
    }
   ],
   "metadata": {}
  },
  {
   "cell_type": "markdown",
   "source": [
    "hyper parameter tuning\r\n",
    "\r\n"
   ],
   "metadata": {}
  },
  {
   "cell_type": "code",
   "execution_count": 29,
   "source": [
    "from sklearn.model_selection import RandomizedSearchCV"
   ],
   "outputs": [],
   "metadata": {}
  },
  {
   "cell_type": "code",
   "execution_count": 30,
   "source": [
    "n_estimators = [int(x) for x in np.linspace(start= 100, stop=1200, num = 12)]\r\n",
    "learning_rate = ['0.05','0.1','0.2','0.3','0.5','0.6']\r\n",
    "max_depth = [int(x) for x in np.linspace(start= 5,stop=30, num=6)]\r\n",
    "subsample = [0.7,0.8,0.9]\r\n",
    "min_child_weight = [3,4,5,6,7]"
   ],
   "outputs": [],
   "metadata": {}
  },
  {
   "cell_type": "code",
   "execution_count": null,
   "source": [
    "random_grid = {\r\n",
    "    'n_estimators' = n_estimators,\r\n",
    "    'learning_rate' = learning_rate,\r\n",
    "    'max_depth' = max_depth,\r\n",
    "    'subsample'= subsample,\r\n",
    "    'min_child_weight'= min_child_weight\r\n",
    "}"
   ],
   "outputs": [],
   "metadata": {}
  },
  {
   "cell_type": "code",
   "execution_count": null,
   "source": [],
   "outputs": [],
   "metadata": {}
  },
  {
   "cell_type": "code",
   "execution_count": null,
   "source": [],
   "outputs": [],
   "metadata": {}
  },
  {
   "cell_type": "code",
   "execution_count": null,
   "source": [],
   "outputs": [],
   "metadata": {}
  },
  {
   "cell_type": "code",
   "execution_count": null,
   "source": [],
   "outputs": [],
   "metadata": {}
  }
 ],
 "metadata": {
  "orig_nbformat": 4,
  "language_info": {
   "name": "python",
   "version": "3.7.9",
   "mimetype": "text/x-python",
   "codemirror_mode": {
    "name": "ipython",
    "version": 3
   },
   "pygments_lexer": "ipython3",
   "nbconvert_exporter": "python",
   "file_extension": ".py"
  },
  "kernelspec": {
   "name": "python3",
   "display_name": "Python 3.7.9 64-bit"
  },
  "interpreter": {
   "hash": "d511d14e60272b9a5a77db7218cb138afebb4019e3c80988c29ef279e60c3e26"
  }
 },
 "nbformat": 4,
 "nbformat_minor": 2
}